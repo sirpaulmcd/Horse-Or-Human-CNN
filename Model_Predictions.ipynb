{
 "cells": [
  {
   "cell_type": "markdown",
   "metadata": {},
   "source": [
    "# Horse Or Human CNN -- Predictions\n",
    "\n",
    "This notebook is used to pass images into the Horse Or Human CNN and recieve predictions. \n",
    "\n",
    "## How to use\n",
    "1. Paste your images of horses and humans into the `images` folder.\n",
    "2. Add the file names to `Image_Names.xlsx`.\n",
    "3. Run this notebook.\n",
    "\n",
    "## Importing the CNN"
   ]
  },
  {
   "cell_type": "code",
   "execution_count": 1,
   "metadata": {
    "tags": []
   },
   "outputs": [
    {
     "output_type": "stream",
     "name": "stderr",
     "text": [
      "Using TensorFlow backend.\n"
     ]
    }
   ],
   "source": [
    "# Import libraries\n",
    "import tensorflow as tf\n",
    "from keras.models import model_from_json\n",
    "# Load model JSON\n",
    "json_file = open('FinalModel.json', 'r')\n",
    "cnn_json = json_file.read()\n",
    "json_file.close()\n",
    "cnn = tf.keras.models.model_from_json(cnn_json)\n",
    "# Load Weights\n",
    "cnn.load_weights('FinalModel.hdf5')\n",
    "# Compile CNN\n",
    "cnn.compile(optimizer=tf.keras.optimizers.RMSprop(lr=0.001), loss='binary_crossentropy', metrics=['accuracy'])"
   ]
  },
  {
   "cell_type": "markdown",
   "metadata": {},
   "source": [
    "## Excel File Predictions"
   ]
  },
  {
   "cell_type": "code",
   "execution_count": 2,
   "metadata": {
    "tags": []
   },
   "outputs": [
    {
     "output_type": "stream",
     "name": "stdout",
     "text": [
      "File:  horse1-000.png \t Prediction: horse\nFile:  horse2-544.png \t Prediction: horse\nFile:  human04-29.png \t Prediction: human\nFile:  valhuman05-03.png \t Prediction: human\nFile:  horse13-4.png \t Prediction: human\nFile:  human11-14.png \t Prediction: human\n"
     ]
    }
   ],
   "source": [
    "# Import libraries\n",
    "import numpy as np\n",
    "import pandas as pd\n",
    "from keras.preprocessing import image\n",
    "# Load filenames\n",
    "test_items = pd.read_excel('Image_Names.xlsx', index_col=0, header=None)\n",
    "# Classify each file and print\n",
    "for filename in test_items[1]:\n",
    "    # Format image for compatibility\n",
    "    test_image = image.load_img(('images/' + filename), target_size=(64, 64))\n",
    "    test_image = image.img_to_array(test_image)\n",
    "    test_image = np.expand_dims(test_image, axis=0)\n",
    "    # Predict image\n",
    "    result = cnn.predict(test_image)\n",
    "    if result[0][0] == 0:\n",
    "        prediction = 'Prediction: horse'\n",
    "    else:\n",
    "        prediction = 'Prediction: human'\n",
    "    print(\"File: \", filename, \"\\t\", prediction)"
   ]
  },
  {
   "source": [
    "As you can see, the model performed pretty well! However, it incorrectly interpreted `horse13-4.png`. Find out why in the `README.md`. "
   ],
   "cell_type": "markdown",
   "metadata": {}
  }
 ],
 "metadata": {
  "language_info": {
   "codemirror_mode": {
    "name": "ipython",
    "version": 3
   },
   "file_extension": ".py",
   "mimetype": "text/x-python",
   "name": "python",
   "nbconvert_exporter": "python",
   "pygments_lexer": "ipython3",
   "version": "3.7.4-final"
  },
  "orig_nbformat": 2,
  "kernelspec": {
   "name": "python37464bitbasecondae5992da88ac746559c628f2e757124b5",
   "display_name": "Python 3.7.4 64-bit ('base': conda)"
  }
 },
 "nbformat": 4,
 "nbformat_minor": 2
}